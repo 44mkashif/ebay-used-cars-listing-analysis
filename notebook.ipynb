{
 "cells": [
  {
   "cell_type": "markdown",
   "metadata": {},
   "source": [
    "Download the dataset from [here](https://www.kaggle.com/bozungu/used-cars-listing-from-ebay/download)."
   ]
  },
  {
   "cell_type": "code",
   "execution_count": null,
   "metadata": {},
   "outputs": [],
   "source": [
    "import pandas as pd\n",
    "import numpy as np\n",
    "\n",
    "autos_new = pd.read_csv('Dataset/autos_new.csv')\n",
    "autos_new.head()"
   ]
  },
  {
   "cell_type": "code",
   "execution_count": null,
   "metadata": {},
   "outputs": [],
   "source": [
    "autos_new = autos_new.dropna()"
   ]
  },
  {
   "cell_type": "code",
   "execution_count": null,
   "metadata": {
    "scrolled": false
   },
   "outputs": [],
   "source": [
    "autos_new.info()"
   ]
  },
  {
   "cell_type": "code",
   "execution_count": null,
   "metadata": {},
   "outputs": [],
   "source": [
    "autos_new = autos_new.replace(['nein', 'ja', 'manuell', 'automatik'], ['no', 'yes', 'manual', 'automatic'])"
   ]
  },
  {
   "cell_type": "code",
   "execution_count": null,
   "metadata": {
    "scrolled": false
   },
   "outputs": [],
   "source": [
    "vehicle_types = autos_new['vehicle_type'].unique()\n",
    "vehicle_type_dict = dict(zip(vehicle_types,range(len(vehicle_types))))\n",
    "vehicle_type_dict"
   ]
  },
  {
   "cell_type": "code",
   "execution_count": null,
   "metadata": {},
   "outputs": [],
   "source": [
    "range(len(vehicle_types))"
   ]
  },
  {
   "cell_type": "code",
   "execution_count": null,
   "metadata": {
    "scrolled": true
   },
   "outputs": [],
   "source": [
    "gearbox = autos_new['gearbox'].unique()\n",
    "gearbox_dict = dict(zip(gearbox,range(len(gearbox))))\n",
    "gearbox_dict"
   ]
  },
  {
   "cell_type": "code",
   "execution_count": null,
   "metadata": {},
   "outputs": [],
   "source": [
    "fuel_types = autos_new['fuel_type'].unique()\n",
    "fuel_types_dict = dict(zip(fuel_types,range(len(fuel_types))))"
   ]
  },
  {
   "cell_type": "code",
   "execution_count": null,
   "metadata": {},
   "outputs": [],
   "source": [
    "unrepaired_damage = autos_new['unrepaired_damage'].unique()\n",
    "unrepaired_damage_dict = dict(zip(unrepaired_damage,range(len(unrepaired_damage))))\n",
    "unrepaired_damage_dict"
   ]
  },
  {
   "cell_type": "code",
   "execution_count": null,
   "metadata": {},
   "outputs": [],
   "source": [
    "autos_new['vehicle_type'] = autos_new['vehicle_type'].map(vehicle_type_dict)\n",
    "autos_new['gearbox'] = autos_new['gearbox'].map(gearbox_dict)\n",
    "autos_new['fuel_type'] = autos_new['fuel_type'].map(fuel_types_dict)\n",
    "autos_new['unrepaired_damage'] = autos_new['unrepaired_damage'].map(unrepaired_damage_dict)"
   ]
  },
  {
   "cell_type": "code",
   "execution_count": null,
   "metadata": {},
   "outputs": [],
   "source": [
    "autos_new['date_crawled'] = pd.to_datetime(autos_new['date_crawled'])\n",
    "autos_new['ad_created'] = pd.to_datetime(autos_new['ad_created'])\n",
    "autos_new['last_seen_online'] = pd.to_datetime(autos_new['last_seen_online'])"
   ]
  },
  {
   "cell_type": "code",
   "execution_count": null,
   "metadata": {
    "scrolled": false
   },
   "outputs": [],
   "source": [
    "import datetime as dt\n",
    "\n",
    "autos_new = autos_new[autos_new['ad_created'].dt.year == 2016]\n",
    "autos_new"
   ]
  },
  {
   "cell_type": "code",
   "execution_count": null,
   "metadata": {},
   "outputs": [],
   "source": [
    "def getcol(colname):\n",
    "    return autos_new[colname]"
   ]
  },
  {
   "cell_type": "code",
   "execution_count": null,
   "metadata": {},
   "outputs": [],
   "source": [
    "numcols = autos_new.select_dtypes(include=np.number).columns.tolist()\n",
    "numcols"
   ]
  },
  {
   "cell_type": "code",
   "execution_count": null,
   "metadata": {
    "scrolled": false
   },
   "outputs": [],
   "source": [
    "import pylab\n",
    "%matplotlib inline\n",
    "\n",
    "k=0\n",
    "fig, ax = pylab.subplots(5, 2)\n",
    "for i in range(5):\n",
    "    for j in range(2):\n",
    "        ax[i, j].hist(getcol(numcols[k]))\n",
    "        ax[i,j].set_title(numcols[k])\n",
    "        k+=1\n",
    "\n",
    "fig.set_figheight(30)\n",
    "fig.set_figwidth(15)"
   ]
  },
  {
   "cell_type": "code",
   "execution_count": null,
   "metadata": {},
   "outputs": [],
   "source": [
    "import pylab\n",
    "%matplotlib inline\n",
    "\n",
    "price = getcol(\"dollar_price\")\n",
    "\n",
    "k=0\n",
    "fig, ax = pylab.subplots(5, 2)\n",
    "for i in range(5):\n",
    "    for j in range(2):\n",
    "        \n",
    "        ax[i, j].scatter(getcol(numcols[k]), price)\n",
    "        ax[i,j].set_title(numcols[k] + \" vs dollar_price\")\n",
    "        k+=1\n",
    "\n",
    "fig.set_figheight(30)\n",
    "fig.set_figwidth(15)"
   ]
  },
  {
   "cell_type": "code",
   "execution_count": null,
   "metadata": {},
   "outputs": [],
   "source": [
    "import pylab\n",
    "%matplotlib inline\n",
    "\n",
    "price = getcol(\"dollar_price\")\n",
    "\n",
    "k=0\n",
    "fig, ax = pylab.subplots(5, 2)\n",
    "for i in range(5):\n",
    "    for j in range(2):\n",
    "        arr = np.array(getcol(numcols[k])).astype(np.float)\n",
    "        ax[i,j].scatter(arr , price)\n",
    "        m, b = np.polyfit(arr, price, 1)\n",
    "        ax[i,j].plot(arr, m*arr + b, '-', color='red')\n",
    "        ax[i,j].set_title(numcols[k] + \" vs Price\")\n",
    "        k+=1\n",
    "\n",
    "fig.set_figheight(30)\n",
    "fig.set_figwidth(15)"
   ]
  },
  {
   "cell_type": "code",
   "execution_count": null,
   "metadata": {},
   "outputs": [],
   "source": []
  }
 ],
 "metadata": {
  "kernelspec": {
   "display_name": "Python 3",
   "language": "python",
   "name": "python3"
  },
  "language_info": {
   "codemirror_mode": {
    "name": "ipython",
    "version": 3
   },
   "file_extension": ".py",
   "mimetype": "text/x-python",
   "name": "python",
   "nbconvert_exporter": "python",
   "pygments_lexer": "ipython3",
   "version": "3.8.3-final"
  }
 },
 "nbformat": 4,
 "nbformat_minor": 2
}